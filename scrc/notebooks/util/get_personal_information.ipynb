{
 "cells": [
  {
   "cell_type": "code",
   "execution_count": 19,
   "source": [
    "import bs4\n",
    "import requests\n",
    "import re\n",
    "from urllib.parse import urljoin\n",
    "from collections import OrderedDict\n",
    "import json"
   ],
   "outputs": [],
   "metadata": {}
  },
  {
   "cell_type": "code",
   "execution_count": 20,
   "source": [
    "base_url = 'https://www.bger.ch/index/federal/federal-inherit-template/federal-richter/'\n",
    "mydict = lambda: OrderedDict(mydict)\n",
    "results = mydict()"
   ],
   "outputs": [
    {
     "output_type": "error",
     "ename": "TypeError",
     "evalue": "'function' object is not iterable",
     "traceback": [
      "\u001b[0;31m---------------------------------------------------------------------------\u001b[0m",
      "\u001b[0;31mTypeError\u001b[0m                                 Traceback (most recent call last)",
      "\u001b[0;32m<ipython-input-20-9063362d9d51>\u001b[0m in \u001b[0;36m<module>\u001b[0;34m\u001b[0m\n\u001b[1;32m      1\u001b[0m \u001b[0mbase_url\u001b[0m \u001b[0;34m=\u001b[0m \u001b[0;34m'https://www.bger.ch/index/federal/federal-inherit-template/federal-richter/'\u001b[0m\u001b[0;34m\u001b[0m\u001b[0;34m\u001b[0m\u001b[0m\n\u001b[1;32m      2\u001b[0m \u001b[0mmydict\u001b[0m \u001b[0;34m=\u001b[0m \u001b[0;32mlambda\u001b[0m\u001b[0;34m:\u001b[0m \u001b[0mOrderedDict\u001b[0m\u001b[0;34m(\u001b[0m\u001b[0mmydict\u001b[0m\u001b[0;34m)\u001b[0m\u001b[0;34m\u001b[0m\u001b[0;34m\u001b[0m\u001b[0m\n\u001b[0;32m----> 3\u001b[0;31m \u001b[0mresults\u001b[0m \u001b[0;34m=\u001b[0m \u001b[0mmydict\u001b[0m\u001b[0;34m(\u001b[0m\u001b[0;34m)\u001b[0m\u001b[0;34m\u001b[0m\u001b[0;34m\u001b[0m\u001b[0m\n\u001b[0m",
      "\u001b[0;32m<ipython-input-20-9063362d9d51>\u001b[0m in \u001b[0;36m<lambda>\u001b[0;34m()\u001b[0m\n\u001b[1;32m      1\u001b[0m \u001b[0mbase_url\u001b[0m \u001b[0;34m=\u001b[0m \u001b[0;34m'https://www.bger.ch/index/federal/federal-inherit-template/federal-richter/'\u001b[0m\u001b[0;34m\u001b[0m\u001b[0;34m\u001b[0m\u001b[0m\n\u001b[0;32m----> 2\u001b[0;31m \u001b[0mmydict\u001b[0m \u001b[0;34m=\u001b[0m \u001b[0;32mlambda\u001b[0m\u001b[0;34m:\u001b[0m \u001b[0mOrderedDict\u001b[0m\u001b[0;34m(\u001b[0m\u001b[0mmydict\u001b[0m\u001b[0;34m)\u001b[0m\u001b[0;34m\u001b[0m\u001b[0;34m\u001b[0m\u001b[0m\n\u001b[0m\u001b[1;32m      3\u001b[0m \u001b[0mresults\u001b[0m \u001b[0;34m=\u001b[0m \u001b[0mmydict\u001b[0m\u001b[0;34m(\u001b[0m\u001b[0;34m)\u001b[0m\u001b[0;34m\u001b[0m\u001b[0;34m\u001b[0m\u001b[0m\n",
      "\u001b[0;31mTypeError\u001b[0m: 'function' object is not iterable"
     ]
    }
   ],
   "metadata": {}
  },
  {
   "cell_type": "code",
   "execution_count": null,
   "source": [
    "def getGender(url: str):\n",
    "    r = requests.get(url)\n",
    "    data = bs4.BeautifulSoup(r.text, \"html.parser\")  # parse html\n",
    "    if data.find(id=\"maincontent\"):\n",
    "        text = str(data.find(id=\"maincontent\").contents)\n",
    "    else:\n",
    "        text= str(data.contents)\n",
    "    if re.search(r'[Rr]ichterin|[Eée]lue', text):\n",
    "        return 'f'\n",
    "    else:\n",
    "        return 'm'"
   ],
   "outputs": [],
   "metadata": {}
  },
  {
   "cell_type": "code",
   "execution_count": null,
   "source": [
    "def bundesrichter_handler(url: str):\n",
    "    r = requests.get('https://www.plaedoyer.ch/artikel/artikeldetail/parteiangehoerigkeit-der-bundesrichter/')\n",
    "    data = bs4.BeautifulSoup(r.text, \"html.parser\")  # parse html\n",
    "    rows = data.find_all('tr')\n",
    "    people_db = []\n",
    "    for row in rows:\n",
    "        if row.find('td').string and len(row.find_all('td'))>1:\n",
    "            people_db.append({'name': row.find('td').string, 'party': row.find_all('td')[1].string})\n",
    "    url = urljoin(base_url, url)\n",
    "    r = requests.get(url)  # get starting page\n",
    "    data = bs4.BeautifulSoup(r.text, \"html.parser\")  # parse html\n",
    "    divs = data.find_all('ul', class_='article-paragraf')\n",
    "    persons = []\n",
    "    for div in divs:\n",
    "        links = div.find_all(\"a\")  # find all links\n",
    "        for link in links:\n",
    "            name = re.sub(r' \\(.*\\)', \"\", link.string)\n",
    "            gender = getGender(urljoin(base_url, link.get('href')))\n",
    "            persons.append({'name': name, 'gender': gender})\n",
    "    for person in persons:\n",
    "        for comp in people_db: \n",
    "            if set(person['name'].split()) == set(comp['name'].split()):\n",
    "                person['party'] = comp['party']\n",
    "    return persons"
   ],
   "outputs": [],
   "metadata": {}
  },
  {
   "cell_type": "code",
   "execution_count": null,
   "source": [
    "def nebenamtliche_richter_handler(url: str):\n",
    "    r = requests.get('https://www.plaedoyer.ch/artikel/artikeldetail/parteiangehoerigkeit-der-bundesrichter/')\n",
    "    data = bs4.BeautifulSoup(r.text, \"html.parser\")  # parse html\n",
    "    rows = data.find_all('tr')\n",
    "    people_db = []\n",
    "    for row in rows:\n",
    "        if row.find('td').string and len(row.find_all('td'))>1:\n",
    "            people_db.append({'name': row.find('td').string, 'party': row.find_all('td')[1].string})\n",
    "    url = urljoin(base_url, url)\n",
    "    r = requests.get(url)  # get starting page\n",
    "    data = bs4.BeautifulSoup(r.text, \"html.parser\")  # parse html\n",
    "    main = data.find(id=\"maincontent\")\n",
    "    list_points = main.find_all('li')\n",
    "    persons = []\n",
    "    for list_point in list_points:\n",
    "        name = re.sub(r',.*', \"\", list_point.string)\n",
    "        persons.append({'name': name})\n",
    "    for person in persons:\n",
    "        for comp in people_db: \n",
    "            if set(person['name'].split()) == set(comp['name'].split()):\n",
    "                person['party'] = comp['party']\n",
    "    return persons"
   ],
   "outputs": [],
   "metadata": {}
  },
  {
   "cell_type": "code",
   "execution_count": null,
   "source": [
    "def gerichtsschreiber_handler(url: str):\n",
    "    url = urljoin(base_url, url)\n",
    "    r = requests.get(url)  # get starting page\n",
    "    data = bs4.BeautifulSoup(r.text, \"html.parser\")  # parse html\n",
    "    main = data.find(id=\"maincontent\")\n",
    "    list_points = main.find_all('li')\n",
    "    persons = []\n",
    "    for list_point in list_points:\n",
    "        name = re.sub(r',.*', \"\", list_point.string)\n",
    "        persons.append({'name': name})\n",
    "    return persons"
   ],
   "outputs": [],
   "metadata": {}
  },
  {
   "cell_type": "code",
   "execution_count": null,
   "source": [
    "def ehemalige_bundesrichter(url: str):\n",
    "    url = urljoin(base_url, url)\n",
    "    r = requests.get(url)  # get starting page\n",
    "    data = bs4.BeautifulSoup(r.text, \"html.parser\")  # parse html\n",
    "    main = data.find(id=\"maincontent\")\n",
    "    list_points = main.find('tbody').find_all('tr')\n",
    "    persons = []\n",
    "    for list_point in list_points:\n",
    "        tds = list_point.find_all('td')\n",
    "        javascript = tds[0].find('a')['onclick']\n",
    "        link = re.search('\\'.*?\\'', javascript).group(0)\n",
    "        gender = getGender(urljoin(base_url, link[1:-1]))\n",
    "        name = tds[0].find('a').text.strip() + \" \" + tds[1].text.strip()\n",
    "        persons.append({'name': name, 'gender': gender})\n",
    "    return persons"
   ],
   "outputs": [],
   "metadata": {}
  },
  {
   "cell_type": "code",
   "execution_count": null,
   "source": [
    "page_objects = [\n",
    "    {\n",
    "        'url': 'federal-richter-bundesrichter.htm',\n",
    "        'handler': bundesrichter_handler,\n",
    "        'category': 'judges',\n",
    "        'sub_category': 'federal_judge',\n",
    "        'id': 'Bundesrichter'\n",
    "    },\n",
    "    {\n",
    "        'url': 'federal-richter-nebenamtlicherichter.htm',\n",
    "        'handler': nebenamtliche_richter_handler,\n",
    "        'category': 'judges',\n",
    "        'sub_category': 'deputy_federal_judge',\n",
    "        'id': 'Nebenamtliche Richter'\n",
    "    },\n",
    "    {\n",
    "        'url': 'federal-richter-gerichtsschreiber.htm',\n",
    "        'handler': gerichtsschreiber_handler,\n",
    "        'category': 'clerks',\n",
    "        'sub_category': 'federal_clerk',\n",
    "        'id': 'Gerichtsschreiber'\n",
    "    },\n",
    "    {\n",
    "        'url': '/index/federal/federal-inherit-template/federal-status/federal-richter-altebundesrichter/federal-richter-altebundesrichter-liste.htm',\n",
    "        'handler': ehemalige_bundesrichter,\n",
    "        'category': 'judges',\n",
    "        'sub_category': 'federal_judge',\n",
    "        'id': 'ehemalige Bundesrichter'\n",
    "    }\n",
    "]"
   ],
   "outputs": [],
   "metadata": {}
  },
  {
   "cell_type": "code",
   "execution_count": null,
   "source": [
    "for obj in page_objects:\n",
    "    persons = obj['handler'](obj['url'])\n",
    "    results[obj['category']][obj['sub_category']][obj['id']] = persons"
   ],
   "outputs": [],
   "metadata": {}
  },
  {
   "cell_type": "code",
   "execution_count": 26,
   "source": [
    "for category in results:\n",
    "    for subcategory in results[category]:\n",
    "        for cat_id in results[category][subcategory]:\n",
    "            results[category][subcategory][cat_id] = sorted(results[category][subcategory][cat_id], key=lambda x:x['name'])\n",
    "        "
   ],
   "outputs": [
    {
     "output_type": "stream",
     "name": "stdout",
     "text": [
      "[{'name': 'Abrecht Theodor', 'gender': 'm'}, {'name': 'Aemisegger Heinz', 'gender': 'm'}, {'name': 'Aepli Arnold Otto', 'gender': 'm'}, {'name': 'Aeschlimann Arthur', 'gender': 'm'}, {'name': 'Affolter Albert', 'gender': 'm'}, {'name': 'Affolter Hans', 'gender': 'm'}, {'name': 'Allemann-Reichle Albert', 'gender': 'm'}, {'name': 'Allet Alexis', 'gender': 'm'}, {'name': 'Andermatt Josef', 'gender': 'm'}, {'name': 'Anderwert Fridolin', 'gender': 'm'}, {'name': 'Antognini Fulvio', 'gender': 'm'}, {'name': 'Arnold Eduard', 'gender': 'm'}, {'name': 'Attenhofer Karl', 'gender': 'm'}, {'name': 'Bachmann Jakob Huldreich', 'gender': 'm'}, {'name': 'Bachtler Fritz', 'gender': 'm'}, {'name': 'Berenstein Alexandre', 'gender': 'm'}, {'name': 'Betschart Gerold', 'gender': 'm'}, {'name': 'Bezzola Andrea', 'gender': 'm'}, {'name': 'Bianchi Sergio', 'gender': 'm'}, {'name': 'Bigler-Eggenberg Margrith', 'gender': 'f'}, {'name': 'Blocher Eugen', 'gender': 'm'}, {'name': 'Blumer Johann Jakob', 'gender': 'm'}, {'name': 'Bläsi Josef', 'gender': 'm'}, {'name': 'Blösch Eduard Eugen', 'gender': 'm'}, {'name': 'Bolla Plinio', 'gender': 'm'}, {'name': 'Borel Eugène', 'gender': 'm'}, {'name': 'Borella Aldo', 'gender': 'm'}, {'name': 'Bourgknecht Louis', 'gender': 'm'}, {'name': 'Brenner Karl Johann', 'gender': 'm'}, {'name': 'Brodtbeck Karl Adolf', 'gender': 'm'}, {'name': 'Brosi Johann Rudolf', 'gender': 'm'}, {'name': 'Broye Jean', 'gender': 'm'}, {'name': 'Brunschwiler Carl Hans', 'gender': 'm'}, {'name': 'Bühler Josef', 'gender': 'm'}, {'name': 'Camperio Philippe', 'gender': 'm'}, {'name': 'Carlin Edouard', 'gender': 'm'}, {'name': 'Castella Jean', 'gender': 'm'}, {'name': 'Castoldi Jean-Jaques', 'gender': 'm'}, {'name': 'Catenazzi Emilio', 'gender': 'm'}, {'name': 'Cavin Pierre', 'gender': 'm'}, {'name': 'Ceresole Paul', 'gender': 'm'}, {'name': 'Châtelain Jean-Pierre', 'gender': 'm'}, {'name': 'Clausen Felix', 'gender': 'm'}, {'name': 'Comment Albert', 'gender': 'm'}, {'name': 'Corboz Bernard', 'gender': 'm'}, {'name': 'Cornaz Auguste (Georges Adrien)', 'gender': 'm'}, {'name': 'Corrodi Paul', 'gender': 'm'}, {'name': 'Couchepin Arthur (Joseph-Marie)', 'gender': 'm'}, {'name': 'Couchepin Louis', 'gender': 'm'}, {'name': 'Dannegger Karl', 'gender': 'm'}, {'name': 'Deggeler Otto', 'gender': 'm'}, {'name': 'Deschenaux Eugène', 'gender': 'm'}, {'name': 'Dubach Werner', 'gender': 'm'}, {'name': 'Dubs Hans', 'gender': 'm'}, {'name': 'Dubs Jakob', 'gender': 'm'}, {'name': 'Ducrey Henri (Joseph)', 'gender': 'm'}, {'name': 'Düby Kurt Rudolf', 'gender': 'm'}, {'name': 'Egli Jean-François', 'gender': 'm'}, {'name': 'Engeler Johann', 'gender': 'm'}, {'name': 'Ernst August', 'gender': 'm'}, {'name': 'Eusebio Ivo', 'gender': 'm'}, {'name': 'Favey Georges', 'gender': 'm'}, {'name': 'Favre Antoine', 'gender': 'm'}, {'name': 'Favre Dominique', 'gender': 'm'}, {'name': 'Favre Louis-Eugène', 'gender': 'm'}, {'name': 'Fazy Robert', 'gender': 'm'}, {'name': 'Ferrari Pierre', 'gender': 'm'}, {'name': 'Folly Jean', 'gender': 'm'}, {'name': 'Fonjallaz Jean', 'gender': 'm'}, {'name': 'Forni Rolando', 'gender': 'm'}, {'name': 'Fragnière Henri', 'gender': 'm'}, {'name': 'Frésard Jean-Maurice', 'gender': 'm'}, {'name': 'Fässler Franz', 'gender': 'm'}, {'name': 'Féraud Michel', 'gender': 'm'}, {'name': 'Gallati Rudolf', 'gender': 'm'}, {'name': 'Garbani-Nerini Evaristo', 'gender': 'm'}, {'name': 'Giovanoli Silvio', 'gender': 'm'}, {'name': 'Glasson Nicolas', 'gender': 'm'}, {'name': 'Gottofrey Vincent', 'gender': 'm'}, {'name': 'Grisel André', 'gender': 'm'}, {'name': 'Guex Robert', 'gender': 'm'}, {'name': 'Guggenheim Camille', 'gender': 'm'}, {'name': 'Gysin Adam Hans', 'gender': 'm'}, {'name': 'Hablützel Jakob', 'gender': 'm'}, {'name': 'Haefliger Arthur', 'gender': 'm'}, {'name': 'Hafner Heinrich', 'gender': 'm'}, {'name': 'Hartmann Karl', 'gender': 'm'}, {'name': 'Hasler Eugen', 'gender': 'm'}, {'name': 'Hauser Victor', 'gender': 'm'}, {'name': 'Hausheer Heinz', 'gender': 'm'}, {'name': 'Hermann Nicolaus', 'gender': 'm'}, {'name': 'Heusser Jakob', 'gender': 'm'}, {'name': 'Honegger Heinrich', 'gender': 'm'}, {'name': 'Honegger Heinrich (sr)', 'gender': 'm'}, {'name': 'Huber Hans', 'gender': 'm'}, {'name': 'Huber Harald', 'gender': 'm'}, {'name': 'Hungerbühler Adrian', 'gender': 'm'}, {'name': 'Häberlin Fritz', 'gender': 'm'}, {'name': 'Häberlin K. Eduard', 'gender': 'm'}, {'name': 'Imer André Florian', 'gender': 'm'}, {'name': 'Jacot-Guillarmod Oliver', 'gender': 'm'}, {'name': 'Jauch Franz', 'gender': 'm'}, {'name': 'Junod Philippe Daniel', 'gender': 'm'}, {'name': 'Jäger Carl', 'gender': 'm'}, {'name': 'Jäger Gottlieb', 'gender': 'm'}, {'name': 'Jöhr Eduard', 'gender': 'm'}, {'name': 'Kappeler Johann Karl', 'gender': 'm'}, {'name': 'Karlen Peter', 'gender': 'm'}, {'name': 'Kasser Paul', 'gender': 'm'}, {'name': 'Kaufmann Otto Konstantin', 'gender': 'm'}, {'name': 'Kern Johann Conrad', 'gender': 'm'}, {'name': 'Kernen Yves', 'gender': 'm'}, {'name': 'Kirchhofer Emil', 'gender': 'm'}, {'name': 'Klett Kathrin', 'gender': 'f'}, {'name': 'Kolly Gilbert', 'gender': 'm'}, {'name': 'Kopp Alois', 'gender': 'm'}, {'name': 'Kuttler Alfred', 'gender': 'm'}, {'name': 'Kämpfer Walter', 'gender': 'm'}, {'name': 'Lemp Paul', 'gender': 'm'}, {'name': 'Leu Jean-Jaques', 'gender': 'm'}, {'name': 'Leuch Georg', 'gender': 'm'}, {'name': 'Leuenberger Walter', 'gender': 'm'}, {'name': 'Leuzinger Susanne', 'gender': 'f'}, {'name': 'Levi Robert', 'gender': 'm'}, {'name': 'Lienhard Hermann', 'gender': 'm'}, {'name': 'Logoz Paul', 'gender': 'm'}, {'name': 'Lustenberger Alois', 'gender': 'm'}, {'name': 'Lüchinger Adolf', 'gender': 'm'}, {'name': 'Mathys Hans', 'gender': 'm'}, {'name': 'Matter Rudolf', 'gender': 'm'}, {'name': 'Merkli Thomas', 'gender': 'm'}, {'name': 'Merz Viktor', 'gender': 'm'}, {'name': 'Messmer Georg', 'gender': 'm'}, {'name': 'Messmer Johann', 'gender': 'm'}, {'name': 'Meyer Lorenz', 'gender': 'm'}, {'name': 'Meyer Ulrich', 'gender': 'm'}, {'name': 'Migy Paul', 'gender': 'm'}, {'name': 'Monnier Frédéric Auguste', 'gender': 'm'}, {'name': 'Morel Josef Karl Pankraz', 'gender': 'm'}, {'name': 'Moritz Paul', 'gender': 'm'}, {'name': 'Muheim Gustav', 'gender': 'm'}, {'name': 'Müller Peter Alexander', 'gender': 'm'}, {'name': 'Müller Robert', 'gender': 'm'}, {'name': 'Müri Hans', 'gender': 'm'}, {'name': 'Nay Giusep', 'gender': 'm'}, {'name': 'Niggeler Rudolf', 'gender': 'm'}, {'name': 'Nordmann-Zimmermann Ursula', 'gender': 'f'}, {'name': 'Nyffeler Franz', 'gender': 'm'}, {'name': 'Nägeli Walter', 'gender': 'm'}, {'name': 'Oberholzer Niklaus', 'gender': 'm'}, {'name': 'Olgiati Gaudenzio (Andrea)', 'gender': 'm'}, {'name': 'Oser Hugo', 'gender': 'm'}, {'name': 'Ostertag Fritz', 'gender': 'm'}, {'name': 'Panchaud André', 'gender': 'm'}, {'name': 'Patry Robert', 'gender': 'm'}, {'name': 'Pedrini Fernando', 'gender': 'm'}, {'name': 'Perrier Emile', 'gender': 'm'}, {'name': 'Perrin René', 'gender': 'm'}, {'name': 'Petitmermet Robert', 'gender': 'm'}, {'name': 'Pfiffner Brigitte', 'gender': 'f'}, {'name': 'Pfister Alois', 'gender': 'm'}, {'name': 'Pfisterer Thomas', 'gender': 'm'}, {'name': 'Pfyffer Kasimir', 'gender': 'm'}, {'name': 'Picot Ernest', 'gender': 'm'}, {'name': 'Pictet Gustave', 'gender': 'm'}, {'name': 'Piller Joseph', 'gender': 'm'}, {'name': 'Plattner Joseph', 'gender': 'm'}, {'name': 'Pometta Carlo', 'gender': 'm'}, {'name': 'Python Louis', 'gender': 'm'}, {'name': 'Rais Albert Constant François', 'gender': 'm'}, {'name': 'Rambert Paul', 'gender': 'm'}, {'name': 'Raschein Rolf', 'gender': 'm'}, {'name': 'Raselli Niccolò', 'gender': 'm'}, {'name': 'Reeb Bertrand', 'gender': 'm'}, {'name': 'Reichel Alexander', 'gender': 'm'}, {'name': 'Reichlin Paul', 'gender': 'm'}, {'name': 'Robert Léon', 'gender': 'm'}, {'name': 'Roguin Jules', 'gender': 'm'}, {'name': 'Rossel Jean', 'gender': 'm'}, {'name': 'Rossel Virgile', 'gender': 'm'}, {'name': 'Rott Emil', 'gender': 'm'}, {'name': 'Rottenberg Liatowitsch Vera', 'gender': 'f'}, {'name': 'Rouiller Claude Bernard', 'gender': 'm'}, {'name': 'Ruffy Victor', 'gender': 'm'}, {'name': 'Rüedi Jean-Pierre', 'gender': 'm'}, {'name': 'Rüttimann Johann Jakob', 'gender': 'm'}, {'name': 'Sailer Carl Georg Jakob', 'gender': 'm'}, {'name': 'Schmid Emil', 'gender': 'm'}, {'name': 'Schmid Franz', 'gender': 'm'}, {'name': 'Schmidt Herman Innozenz', 'gender': 'm'}, {'name': 'Schneider Roland Max', 'gender': 'm'}, {'name': 'Schoch Kurt', 'gender': 'm'}, {'name': 'Schubarth Martin', 'gender': 'm'}, {'name': 'Schurter Emil', 'gender': 'm'}, {'name': 'Schwander Vital', 'gender': 'm'}, {'name': 'Schwartz Paul', 'gender': 'm'}, {'name': 'Schweri Erhard', 'gender': 'm'}, {'name': 'Schön Franz', 'gender': 'm'}, {'name': 'Schönenberger Wilhelm', 'gender': 'm'}, {'name': 'Scyboz Georges', 'gender': 'm'}, {'name': 'Soldan Charles-Henri', 'gender': 'm'}, {'name': 'Soldati Agostino', 'gender': 'm'}, {'name': 'Spühler Karl', 'gender': 'm'}, {'name': 'Stamm Heinrich', 'gender': 'm'}, {'name': 'Stauffer Wilhelm', 'gender': 'm'}, {'name': 'Steiner Hans', 'gender': 'm'}, {'name': 'Stocker Werner', 'gender': 'm'}, {'name': 'Stoffel Max', 'gender': 'm'}, {'name': 'Stooss Alfred', 'gender': 'm'}, {'name': 'Strebel Josef Jakob', 'gender': 'm'}, {'name': 'Studer Hartmann Friedrich', 'gender': 'm'}, {'name': 'Stämpfli Jakob', 'gender': 'm'}, {'name': 'Thelin Henri', 'gender': 'm'}, {'name': 'Trog Johann Jakob', 'gender': 'm'}, {'name': 'Tschopp Hans', 'gender': 'm'}, {'name': 'Ursprung Albert', 'gender': 'm'}, {'name': 'Ursprung Rudolf', 'gender': 'm'}, {'name': 'Vigier Joseph Wilhelm Viktor', 'gender': 'm'}, {'name': 'Walter Hans Peter', 'gender': 'm'}, {'name': 'Weber Johann Conrad', 'gender': 'm'}, {'name': 'Weber Jost', 'gender': 'm'}, {'name': 'Weber Leo', 'gender': 'm'}, {'name': 'Weibel Heinrich', 'gender': 'm'}, {'name': 'Weiss Theodor', 'gender': 'm'}, {'name': 'Weyermann Edwin', 'gender': 'm'}, {'name': 'Widmer Wehrli Ursula', 'gender': 'f'}, {'name': 'Winkler Johannes', 'gender': 'm'}, {'name': 'Wiprächtiger Hans', 'gender': 'm'}, {'name': 'Wurzburger Alain', 'gender': 'm'}, {'name': 'Yersin Danielle', 'gender': 'f'}, {'name': 'Zenruffinen Franz Kaspar', 'gender': 'm'}, {'name': 'Zgraggen Karl', 'gender': 'm'}, {'name': 'Ziegler Adolf', 'gender': 'm'}, {'name': 'Zwahlen Henri', 'gender': 'm'}, {'name': 'Zünd Andreas', 'gender': 'm'}, {'name': 'von Arx Adrian', 'gender': 'm'}, {'name': 'von Werra Raphael', 'gender': 'm'}]\n"
     ]
    }
   ],
   "metadata": {}
  },
  {
   "cell_type": "code",
   "execution_count": null,
   "source": [
    "f = open(\"legal_info/personal_information.json\", \"w\")\n",
    "f.write(json.dumps(results, indent=2))\n",
    "f.close()"
   ],
   "outputs": [],
   "metadata": {}
  }
 ],
 "metadata": {
  "kernelspec": {
   "name": "python3",
   "display_name": "Python 3.8.5 64-bit ('scrc': conda)"
  },
  "language_info": {
   "name": "python",
   "version": "3.8.11",
   "mimetype": "text/x-python",
   "codemirror_mode": {
    "name": "ipython",
    "version": 3
   },
   "pygments_lexer": "ipython3",
   "nbconvert_exporter": "python",
   "file_extension": ".py"
  },
  "interpreter": {
   "hash": "f91abb337a6a4e5108853212a7683a6009b8136a2b9fec5638611d64937f6bef"
  }
 },
 "nbformat": 4,
 "nbformat_minor": 5
}